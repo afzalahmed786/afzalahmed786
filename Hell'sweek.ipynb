{
 "cells": [
  {
   "cell_type": "code",
   "execution_count": 1,
   "id": "60192ee4",
   "metadata": {
    "_cell_guid": "b1076dfc-b9ad-4769-8c92-a6c4dae69d19",
    "_uuid": "8f2839f25d086af736a60e9eeb907d3b93b6e0e5",
    "execution": {
     "iopub.execute_input": "2023-07-18T16:07:20.834904Z",
     "iopub.status.busy": "2023-07-18T16:07:20.834479Z",
     "iopub.status.idle": "2023-07-18T16:09:02.502377Z",
     "shell.execute_reply": "2023-07-18T16:09:02.501259Z"
    },
    "papermill": {
     "duration": 101.675407,
     "end_time": "2023-07-18T16:09:02.505306",
     "exception": false,
     "start_time": "2023-07-18T16:07:20.829899",
     "status": "completed"
    },
    "tags": []
   },
   "outputs": [
    {
     "name": "stderr",
     "output_type": "stream",
     "text": [
      "/opt/conda/lib/python3.10/site-packages/scipy/__init__.py:146: UserWarning: A NumPy version >=1.16.5 and <1.23.0 is required for this version of SciPy (detected version 1.23.5\n",
      "  warnings.warn(f\"A NumPy version >={np_minversion} and <{np_maxversion}\"\n",
      "/opt/conda/lib/python3.10/site-packages/tensorflow_io/python/ops/__init__.py:98: UserWarning: unable to load libtensorflow_io_plugins.so: unable to open file: libtensorflow_io_plugins.so, from paths: ['/opt/conda/lib/python3.10/site-packages/tensorflow_io/python/ops/libtensorflow_io_plugins.so']\n",
      "caused by: ['/opt/conda/lib/python3.10/site-packages/tensorflow_io/python/ops/libtensorflow_io_plugins.so: undefined symbol: _ZN3tsl6StatusC1EN10tensorflow5error4CodeESt17basic_string_viewIcSt11char_traitsIcEENS_14SourceLocationE']\n",
      "  warnings.warn(f\"unable to load libtensorflow_io_plugins.so: {e}\")\n",
      "/opt/conda/lib/python3.10/site-packages/tensorflow_io/python/ops/__init__.py:104: UserWarning: file system plugins are not loaded: unable to open file: libtensorflow_io.so, from paths: ['/opt/conda/lib/python3.10/site-packages/tensorflow_io/python/ops/libtensorflow_io.so']\n",
      "caused by: ['/opt/conda/lib/python3.10/site-packages/tensorflow_io/python/ops/libtensorflow_io.so: undefined symbol: _ZTVN10tensorflow13GcsFileSystemE']\n",
      "  warnings.warn(f\"file system plugins are not loaded: {e}\")\n",
      "/tmp/ipykernel_20/1339573305.py:26: FutureWarning: The default value of numeric_only in DataFrame.median is deprecated. In a future version, it will default to False. In addition, specifying 'numeric_only=None' is deprecated. Select only valid columns or specify the value of numeric_only to silence this warning.\n",
      "  df = df.fillna(df.median())\n",
      "/tmp/ipykernel_20/1339573305.py:30: FutureWarning: The default value of numeric_only in DataFrame.median is deprecated. In a future version, it will default to False. In addition, specifying 'numeric_only=None' is deprecated. Select only valid columns or specify the value of numeric_only to silence this warning.\n",
      "  train_df=train_df.fillna(train_df.median())\n"
     ]
    }
   ],
   "source": [
    "import re\n",
    "import numpy as np # linear algebra\n",
    "import pandas as pd # data processing, CSV file I/O (e.g. pd.read_csv)\n",
    "import tensorflow as tf\n",
    "from sklearn.model_selection import train_test_split\n",
    "from sklearn.metrics import accuracy_score\n",
    "\n",
    "train_df  = pd.read_csv(\"/kaggle/input/hell-week/train.csv\")\n",
    "test_df = pd.read_csv(\"/kaggle/input/hell-week/test.csv\")\n",
    "\n",
    "def cleaner(row):\n",
    "    if row in [np.nan,'nan',0.0]:\n",
    "        return row\n",
    "    else:\n",
    "        x,y=6,-6\n",
    "        try:\n",
    "            return float(row[x:y])\n",
    "        except:\n",
    "            print(f'{row, type(row)}, exception')\n",
    "\n",
    "def pre_process(df, mode):\n",
    "    df = df.drop(['UID', 'ph_no', 'cvv', 'credit_card_number', 'job', 'email', 'url', 'country', 'emoji', 'name'], axis=1)\n",
    "    n = len(df.columns) if mode == 'test' else -1\n",
    "    for i in df.columns[:n]:\n",
    "        df[i] = df[i].apply(cleaner)\n",
    "    df = df.fillna(df.median())\n",
    "    return df\n",
    "\n",
    "train_df=pre_process(train_df,'train')\n",
    "train_df=train_df.fillna(train_df.median())\n",
    "\n",
    "categorical_columns = train_df.select_dtypes(include=['object']).columns\n",
    "train_df.select_dtypes(include=['object']).columns\n",
    "\n",
    "X=train_df.drop('state',axis=1)\n",
    "y=train_df['state']\n",
    "\n"
   ]
  },
  {
   "cell_type": "code",
   "execution_count": 2,
   "id": "a59a720d",
   "metadata": {
    "execution": {
     "iopub.execute_input": "2023-07-18T16:09:02.513569Z",
     "iopub.status.busy": "2023-07-18T16:09:02.512636Z",
     "iopub.status.idle": "2023-07-18T16:09:30.660749Z",
     "shell.execute_reply": "2023-07-18T16:09:30.659550Z"
    },
    "papermill": {
     "duration": 28.155106,
     "end_time": "2023-07-18T16:09:30.663607",
     "exception": false,
     "start_time": "2023-07-18T16:09:02.508501",
     "status": "completed"
    },
    "tags": []
   },
   "outputs": [
    {
     "name": "stdout",
     "output_type": "stream",
     "text": [
      "[[0. 0. 1. ... 0. 0. 0.]\n",
      " [0. 0. 0. ... 0. 0. 1.]\n",
      " [0. 0. 0. ... 1. 0. 0.]\n",
      " ...\n",
      " [0. 0. 0. ... 1. 0. 0.]\n",
      " [0. 0. 0. ... 0. 0. 0.]\n",
      " [0. 0. 0. ... 0. 0. 1.]]\n"
     ]
    }
   ],
   "source": [
    "from sklearn.preprocessing import LabelEncoder\n",
    "label_encoder = LabelEncoder()\n",
    "y = train_df['state']\n",
    "y_encoded = label_encoder.fit_transform(y)\n",
    "y_encoded_onehot = np.eye(10)[y_encoded]\n",
    "print(y_encoded_onehot)\n",
    "\n",
    "\n",
    "\n",
    "X_train, X_val, y_train, y_val = train_test_split(X, y_encoded_onehot, test_size=0.3)\n",
    "num_unique_categories = y_encoded_onehot.shape[1]\n",
    "\n",
    "df_test = pd.read_csv('/kaggle/input/hell-week/test.csv')\n",
    "df_test_cleaned = pre_process(df_test, 'test')"
   ]
  },
  {
   "cell_type": "code",
   "execution_count": 3,
   "id": "b7cc881d",
   "metadata": {
    "execution": {
     "iopub.execute_input": "2023-07-18T16:09:30.670855Z",
     "iopub.status.busy": "2023-07-18T16:09:30.670441Z",
     "iopub.status.idle": "2023-07-18T16:11:57.209859Z",
     "shell.execute_reply": "2023-07-18T16:11:57.208632Z"
    },
    "papermill": {
     "duration": 146.54613,
     "end_time": "2023-07-18T16:11:57.212671",
     "exception": false,
     "start_time": "2023-07-18T16:09:30.666541",
     "status": "completed"
    },
    "tags": []
   },
   "outputs": [
    {
     "name": "stdout",
     "output_type": "stream",
     "text": [
      "Epoch 1/20\n",
      "3063/3063 [==============================] - 8s 2ms/step - loss: 1.3138 - accuracy: 0.5896 - val_loss: 0.8123 - val_accuracy: 0.7290\n",
      "Epoch 2/20\n",
      "3063/3063 [==============================] - 7s 2ms/step - loss: 0.6886 - accuracy: 0.7731 - val_loss: 0.6187 - val_accuracy: 0.7970\n",
      "Epoch 3/20\n",
      "3063/3063 [==============================] - 7s 2ms/step - loss: 0.5557 - accuracy: 0.8208 - val_loss: 0.5555 - val_accuracy: 0.8228\n",
      "Epoch 4/20\n",
      "3063/3063 [==============================] - 7s 2ms/step - loss: 0.4922 - accuracy: 0.8453 - val_loss: 0.5235 - val_accuracy: 0.8342\n",
      "Epoch 5/20\n",
      "3063/3063 [==============================] - 7s 2ms/step - loss: 0.4584 - accuracy: 0.8574 - val_loss: 0.5072 - val_accuracy: 0.8408\n",
      "Epoch 6/20\n",
      "3063/3063 [==============================] - 7s 2ms/step - loss: 0.4325 - accuracy: 0.8659 - val_loss: 0.5031 - val_accuracy: 0.8440\n",
      "Epoch 7/20\n",
      "3063/3063 [==============================] - 8s 3ms/step - loss: 0.4133 - accuracy: 0.8731 - val_loss: 0.4601 - val_accuracy: 0.8598\n",
      "Epoch 8/20\n",
      "3063/3063 [==============================] - 7s 2ms/step - loss: 0.3983 - accuracy: 0.8783 - val_loss: 0.4544 - val_accuracy: 0.8646\n",
      "Epoch 9/20\n",
      "3063/3063 [==============================] - 7s 2ms/step - loss: 0.3867 - accuracy: 0.8830 - val_loss: 0.4897 - val_accuracy: 0.8553\n",
      "Epoch 10/20\n",
      "3063/3063 [==============================] - 8s 2ms/step - loss: 0.3778 - accuracy: 0.8856 - val_loss: 0.4556 - val_accuracy: 0.8636\n",
      "Epoch 11/20\n",
      "3063/3063 [==============================] - 7s 2ms/step - loss: 0.3667 - accuracy: 0.8899 - val_loss: 0.4428 - val_accuracy: 0.8677\n",
      "Epoch 12/20\n",
      "3063/3063 [==============================] - 7s 2ms/step - loss: 0.3589 - accuracy: 0.8925 - val_loss: 0.4475 - val_accuracy: 0.8692\n",
      "Epoch 13/20\n",
      "3063/3063 [==============================] - 7s 2ms/step - loss: 0.3529 - accuracy: 0.8948 - val_loss: 0.4600 - val_accuracy: 0.8639\n",
      "Epoch 14/20\n",
      "3063/3063 [==============================] - 7s 2ms/step - loss: 0.3456 - accuracy: 0.8968 - val_loss: 0.4446 - val_accuracy: 0.8695\n",
      "Epoch 15/20\n",
      "3063/3063 [==============================] - 7s 2ms/step - loss: 0.3427 - accuracy: 0.8982 - val_loss: 0.4415 - val_accuracy: 0.8714\n",
      "Epoch 16/20\n",
      "3063/3063 [==============================] - 7s 2ms/step - loss: 0.3387 - accuracy: 0.9017 - val_loss: 0.4421 - val_accuracy: 0.8722\n",
      "Epoch 17/20\n",
      "3063/3063 [==============================] - 7s 2ms/step - loss: 0.3346 - accuracy: 0.9011 - val_loss: 0.4360 - val_accuracy: 0.8741\n",
      "Epoch 18/20\n",
      "3063/3063 [==============================] - 8s 3ms/step - loss: 0.3297 - accuracy: 0.9027 - val_loss: 0.4350 - val_accuracy: 0.8769\n",
      "Epoch 19/20\n",
      "3063/3063 [==============================] - 8s 3ms/step - loss: 0.3283 - accuracy: 0.9030 - val_loss: 0.4475 - val_accuracy: 0.8720\n",
      "Epoch 20/20\n",
      "3063/3063 [==============================] - 7s 2ms/step - loss: 0.3237 - accuracy: 0.9047 - val_loss: 0.4404 - val_accuracy: 0.8749\n",
      "1875/1875 [==============================] - 2s 1ms/step\n"
     ]
    }
   ],
   "source": [
    "model = tf.keras.Sequential([\n",
    "    tf.keras.layers.Dense(64, activation='relu', input_shape=(X_train.shape[1],)),\n",
    "    tf.keras.layers.Dense(128, activation='relu'),\n",
    "    tf.keras.layers.Dense(num_unique_categories, activation='softmax')])\n",
    "\n",
    "model.compile(optimizer='adam',loss='categorical_crossentropy',metrics=['accuracy'])\n",
    "\n",
    "model.fit(X_train, y_train, epochs=20, batch_size=32, validation_data=(X_val, y_val))\n",
    "predictions = model.predict(df_test_cleaned)\n",
    "y_pred_labels = np.argmax(predictions, axis=1)\n",
    "y_pred_decoded = label_encoder.inverse_transform(y_pred_labels)\n",
    "output = pd.DataFrame({'UID': test_df.UID, 'state':y_pred_decoded})\n",
    "output.to_csv('submission.csv', index=False)"
   ]
  }
 ],
 "metadata": {
  "kernelspec": {
   "display_name": "Python 3",
   "language": "python",
   "name": "python3"
  },
  "language_info": {
   "codemirror_mode": {
    "name": "ipython",
    "version": 3
   },
   "file_extension": ".py",
   "mimetype": "text/x-python",
   "name": "python",
   "nbconvert_exporter": "python",
   "pygments_lexer": "ipython3",
   "version": "3.10.12"
  },
  "papermill": {
   "default_parameters": {},
   "duration": 290.76698,
   "end_time": "2023-07-18T16:12:00.924743",
   "environment_variables": {},
   "exception": null,
   "input_path": "__notebook__.ipynb",
   "output_path": "__notebook__.ipynb",
   "parameters": {},
   "start_time": "2023-07-18T16:07:10.157763",
   "version": "2.4.0"
  }
 },
 "nbformat": 4,
 "nbformat_minor": 5
}
