{
 "cells": [
  {
   "cell_type": "code",
   "execution_count": 1,
   "id": "b55caab0",
   "metadata": {
    "_cell_guid": "b1076dfc-b9ad-4769-8c92-a6c4dae69d19",
    "_uuid": "8f2839f25d086af736a60e9eeb907d3b93b6e0e5",
    "execution": {
     "iopub.execute_input": "2023-07-16T08:42:28.502728Z",
     "iopub.status.busy": "2023-07-16T08:42:28.501998Z",
     "iopub.status.idle": "2023-07-16T08:45:49.060423Z",
     "shell.execute_reply": "2023-07-16T08:45:49.056131Z"
    },
    "papermill": {
     "duration": 200.566276,
     "end_time": "2023-07-16T08:45:49.063648",
     "exception": false,
     "start_time": "2023-07-16T08:42:28.497372",
     "status": "completed"
    },
    "tags": []
   },
   "outputs": [
    {
     "name": "stderr",
     "output_type": "stream",
     "text": [
      "/opt/conda/lib/python3.10/site-packages/scipy/__init__.py:146: UserWarning: A NumPy version >=1.16.5 and <1.23.0 is required for this version of SciPy (detected version 1.23.5\n",
      "  warnings.warn(f\"A NumPy version >={np_minversion} and <{np_maxversion}\"\n",
      "/opt/conda/lib/python3.10/site-packages/tensorflow_io/python/ops/__init__.py:98: UserWarning: unable to load libtensorflow_io_plugins.so: unable to open file: libtensorflow_io_plugins.so, from paths: ['/opt/conda/lib/python3.10/site-packages/tensorflow_io/python/ops/libtensorflow_io_plugins.so']\n",
      "caused by: ['/opt/conda/lib/python3.10/site-packages/tensorflow_io/python/ops/libtensorflow_io_plugins.so: undefined symbol: _ZN3tsl6StatusC1EN10tensorflow5error4CodeESt17basic_string_viewIcSt11char_traitsIcEENS_14SourceLocationE']\n",
      "  warnings.warn(f\"unable to load libtensorflow_io_plugins.so: {e}\")\n",
      "/opt/conda/lib/python3.10/site-packages/tensorflow_io/python/ops/__init__.py:104: UserWarning: file system plugins are not loaded: unable to open file: libtensorflow_io.so, from paths: ['/opt/conda/lib/python3.10/site-packages/tensorflow_io/python/ops/libtensorflow_io.so']\n",
      "caused by: ['/opt/conda/lib/python3.10/site-packages/tensorflow_io/python/ops/libtensorflow_io.so: undefined symbol: _ZTVN10tensorflow13GcsFileSystemE']\n",
      "  warnings.warn(f\"file system plugins are not loaded: {e}\")\n"
     ]
    },
    {
     "name": "stdout",
     "output_type": "stream",
     "text": [
      "[[0. 0. 1. ... 0. 0. 0.]\n",
      " [0. 0. 0. ... 0. 0. 1.]\n",
      " [0. 0. 0. ... 1. 0. 0.]\n",
      " ...\n",
      " [0. 1. 0. ... 0. 0. 0.]\n",
      " [0. 0. 0. ... 0. 0. 0.]\n",
      " [0. 0. 0. ... 1. 0. 0.]]\n",
      "(40574, 55)\n",
      "(40574, 10)\n",
      "(17389, 55)\n",
      "(17389, 10)\n"
     ]
    }
   ],
   "source": [
    "import re\n",
    "import numpy as np # linear algebra\n",
    "import pandas as pd # data processing, CSV file I/O (e.g. pd.read_csv)\n",
    "import tensorflow as tf\n",
    "from sklearn.model_selection import train_test_split\n",
    "from sklearn.metrics import accuracy_score\n",
    "\n",
    "train_df  = pd.read_csv(\"/kaggle/input/hell-week/train.csv\")\n",
    "test_df = pd.read_csv(\"/kaggle/input/hell-week/test.csv\")\n",
    "for x in train_df.columns[10:-1]:\n",
    "    train_df[x] = train_df[x].str.extract(r'([-+]?\\d*\\.\\d+|\\d+)').astype(float)\n",
    "    \n",
    "repeating_columns = []\n",
    "for col in train_df.columns[10:-1]:\n",
    "    if len(train_df[col].unique()) == 2:\n",
    "        repeating_columns.append(col)\n",
    "train_df = train_df.drop(columns=repeating_columns,axis=1)\n",
    "train_df = train_df.dropna()\n",
    "features = train_df.columns[10:-1]\n",
    "X = train_df[features]\n",
    "X = X.dropna()\n",
    "\n",
    "\n",
    "for x in test_df.columns[10:]:\n",
    "    test_df[x] = test_df[x].str.extract(r'([-+]?\\d*\\.\\d+|\\d+)').astype(float)\n",
    "X_test = test_df[features]\n",
    "\n",
    "from sklearn.preprocessing import LabelEncoder\n",
    "label_encoder = LabelEncoder()\n",
    "y = train_df['state']\n",
    "y_encoded = label_encoder.fit_transform(y)\n",
    "y_encoded_onehot = np.eye(10)[y_encoded]\n",
    "print(y_encoded_onehot)\n",
    "\n",
    "\n",
    "\n",
    "X_train, X_val, y_train, y_val = train_test_split(X, y_encoded_onehot, test_size=0.3)\n",
    "print(X_train.shape)\n",
    "print(y_train.shape)\n",
    "print(X_val.shape)\n",
    "print(y_val.shape)\n",
    "\n",
    "num_unique_categories = y_encoded_onehot.shape[1]"
   ]
  },
  {
   "cell_type": "code",
   "execution_count": 2,
   "id": "ba73149d",
   "metadata": {
    "execution": {
     "iopub.execute_input": "2023-07-16T08:45:49.070863Z",
     "iopub.status.busy": "2023-07-16T08:45:49.070433Z",
     "iopub.status.idle": "2023-07-16T08:47:01.248824Z",
     "shell.execute_reply": "2023-07-16T08:47:01.247612Z"
    },
    "papermill": {
     "duration": 72.185154,
     "end_time": "2023-07-16T08:47:01.251479",
     "exception": false,
     "start_time": "2023-07-16T08:45:49.066325",
     "status": "completed"
    },
    "tags": []
   },
   "outputs": [
    {
     "name": "stdout",
     "output_type": "stream",
     "text": [
      "Epoch 1/20\n",
      "1268/1268 [==============================] - 5s 3ms/step - loss: 2.3724 - accuracy: 0.2198 - val_loss: 1.9039 - val_accuracy: 0.3297\n",
      "Epoch 2/20\n",
      "1268/1268 [==============================] - 3s 2ms/step - loss: 1.6201 - accuracy: 0.4400 - val_loss: 1.4119 - val_accuracy: 0.5152\n",
      "Epoch 3/20\n",
      "1268/1268 [==============================] - 3s 3ms/step - loss: 1.2690 - accuracy: 0.5678 - val_loss: 1.1921 - val_accuracy: 0.5898\n",
      "Epoch 4/20\n",
      "1268/1268 [==============================] - 4s 3ms/step - loss: 1.0832 - accuracy: 0.6305 - val_loss: 1.0577 - val_accuracy: 0.6395\n",
      "Epoch 5/20\n",
      "1268/1268 [==============================] - 3s 2ms/step - loss: 0.9656 - accuracy: 0.6726 - val_loss: 0.9928 - val_accuracy: 0.6659\n",
      "Epoch 6/20\n",
      "1268/1268 [==============================] - 3s 2ms/step - loss: 0.8851 - accuracy: 0.6996 - val_loss: 0.9249 - val_accuracy: 0.6886\n",
      "Epoch 7/20\n",
      "1268/1268 [==============================] - 3s 2ms/step - loss: 0.8209 - accuracy: 0.7238 - val_loss: 0.8644 - val_accuracy: 0.7060\n",
      "Epoch 8/20\n",
      "1268/1268 [==============================] - 3s 2ms/step - loss: 0.7715 - accuracy: 0.7406 - val_loss: 0.8409 - val_accuracy: 0.7134\n",
      "Epoch 9/20\n",
      "1268/1268 [==============================] - 4s 3ms/step - loss: 0.7272 - accuracy: 0.7596 - val_loss: 0.8022 - val_accuracy: 0.7287\n",
      "Epoch 10/20\n",
      "1268/1268 [==============================] - 3s 2ms/step - loss: 0.6956 - accuracy: 0.7664 - val_loss: 0.7800 - val_accuracy: 0.7425\n",
      "Epoch 11/20\n",
      "1268/1268 [==============================] - 3s 3ms/step - loss: 0.6651 - accuracy: 0.7792 - val_loss: 0.7425 - val_accuracy: 0.7584\n",
      "Epoch 12/20\n",
      "1268/1268 [==============================] - 4s 3ms/step - loss: 0.6428 - accuracy: 0.7850 - val_loss: 0.7417 - val_accuracy: 0.7547\n",
      "Epoch 13/20\n",
      "1268/1268 [==============================] - 3s 3ms/step - loss: 0.6246 - accuracy: 0.7923 - val_loss: 0.7039 - val_accuracy: 0.7653\n",
      "Epoch 14/20\n",
      "1268/1268 [==============================] - 3s 3ms/step - loss: 0.6048 - accuracy: 0.7985 - val_loss: 0.6927 - val_accuracy: 0.7713\n",
      "Epoch 15/20\n",
      "1268/1268 [==============================] - 3s 2ms/step - loss: 0.5882 - accuracy: 0.8049 - val_loss: 0.6704 - val_accuracy: 0.7786\n",
      "Epoch 16/20\n",
      "1268/1268 [==============================] - 3s 3ms/step - loss: 0.5735 - accuracy: 0.8124 - val_loss: 0.6750 - val_accuracy: 0.7797\n",
      "Epoch 17/20\n",
      "1268/1268 [==============================] - 4s 3ms/step - loss: 0.5631 - accuracy: 0.8146 - val_loss: 0.6727 - val_accuracy: 0.7768\n",
      "Epoch 18/20\n",
      "1268/1268 [==============================] - 4s 3ms/step - loss: 0.5510 - accuracy: 0.8168 - val_loss: 0.6499 - val_accuracy: 0.7891\n",
      "Epoch 19/20\n",
      "1268/1268 [==============================] - 4s 3ms/step - loss: 0.5386 - accuracy: 0.8210 - val_loss: 0.6437 - val_accuracy: 0.7921\n",
      "Epoch 20/20\n",
      "1268/1268 [==============================] - 3s 3ms/step - loss: 0.5292 - accuracy: 0.8267 - val_loss: 0.6511 - val_accuracy: 0.7881\n",
      "1875/1875 [==============================] - 2s 1ms/step\n"
     ]
    }
   ],
   "source": [
    "model = tf.keras.Sequential([\n",
    "    tf.keras.layers.Dense(64, activation='relu', input_shape=(X_train.shape[1],)),\n",
    "    tf.keras.layers.Dense(32, activation='relu'),\n",
    "    tf.keras.layers.Dense(num_unique_categories, activation='softmax')])\n",
    "\n",
    "model.compile(optimizer='adam',loss='categorical_crossentropy',metrics=['accuracy'])\n",
    "\n",
    "model.fit(X_train, y_train, epochs=20, batch_size=32, validation_data=(X_val, y_val))\n",
    "predictions = model.predict(X_test)\n",
    "y_pred_labels = np.argmax(predictions, axis=1)\n",
    "y_pred_decoded = label_encoder.inverse_transform(y_pred_labels)\n",
    "output = pd.DataFrame({'UID': test_df.UID, 'state':y_pred_decoded})\n",
    "output.to_csv('submission.csv', index=False)"
   ]
  }
 ],
 "metadata": {
  "kernelspec": {
   "display_name": "Python 3",
   "language": "python",
   "name": "python3"
  },
  "language_info": {
   "codemirror_mode": {
    "name": "ipython",
    "version": 3
   },
   "file_extension": ".py",
   "mimetype": "text/x-python",
   "name": "python",
   "nbconvert_exporter": "python",
   "pygments_lexer": "ipython3",
   "version": "3.10.12"
  },
  "papermill": {
   "default_parameters": {},
   "duration": 287.89011,
   "end_time": "2023-07-16T08:47:04.421551",
   "environment_variables": {},
   "exception": null,
   "input_path": "__notebook__.ipynb",
   "output_path": "__notebook__.ipynb",
   "parameters": {},
   "start_time": "2023-07-16T08:42:16.531441",
   "version": "2.4.0"
  }
 },
 "nbformat": 4,
 "nbformat_minor": 5
}
